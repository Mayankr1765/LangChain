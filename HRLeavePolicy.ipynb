{
 "cells": [
  {
   "cell_type": "code",
   "execution_count": null,
   "id": "9a3a99b2-0fc3-4735-b71f-ad5adaec6cca",
   "metadata": {},
   "outputs": [],
   "source": [
    "from langchain_community.llms import Ollama\n",
    "from langchain_community.vectorstores import FAISS\n",
    "from langchain_community.embeddings import OllamaEmbeddings\n",
    "from langchain_community.document_loaders import PyPDFLoader\n",
    "from langchain.text_splitter import RecursiveCharacterTextSplitter\n",
    "from langchain.agents import Tool, initialize_agent, AgentType\n",
    "from langchain.chains import RetrievalQA\n",
    "import os"
   ]
  },
  {
   "cell_type": "code",
   "execution_count": 3,
   "id": "f14101b9-a16e-4b4a-9170-4eb4499fa047",
   "metadata": {},
   "outputs": [],
   "source": [
    "from langchain_community.document_loaders import TextLoader\n",
    "\n",
    "loader = TextLoader(\"./untitled.txt\")\n",
    "docs = loader.load()\n"
   ]
  },
  {
   "cell_type": "code",
   "execution_count": 4,
   "id": "f0bed525-f880-4f1b-9bdc-7c49282d387f",
   "metadata": {},
   "outputs": [],
   "source": [
    "splitter = RecursiveCharacterTextSplitter(chunk_size=500, chunk_overlap=50)\n",
    "chunks = splitter.split_documents(docs)"
   ]
  },
  {
   "cell_type": "code",
   "execution_count": 6,
   "id": "fa05571d-c236-4669-aa58-c6125ff9bca8",
   "metadata": {},
   "outputs": [
    {
     "name": "stderr",
     "output_type": "stream",
     "text": [
      "/var/folders/26/5b37wfvn5p3c2jwdpnt8g_280000gn/T/ipykernel_45082/1138023187.py:1: LangChainDeprecationWarning: The class `OllamaEmbeddings` was deprecated in LangChain 0.3.1 and will be removed in 1.0.0. An updated version of the class exists in the :class:`~langchain-ollama package and should be used instead. To use it run `pip install -U :class:`~langchain-ollama` and import as `from :class:`~langchain_ollama import OllamaEmbeddings``.\n",
      "  embedding_model = OllamaEmbeddings(model=\"llama3.2\")\n"
     ]
    }
   ],
   "source": [
    "embedding_model = OllamaEmbeddings(model=\"llama3.2\") \n",
    "db = FAISS.from_documents(chunks, embedding_model)\n",
    "retriever = db.as_retriever()"
   ]
  },
  {
   "cell_type": "code",
   "execution_count": null,
   "id": "3efeebcf-86ce-4bf5-a1ef-bf54a35912a5",
   "metadata": {},
   "outputs": [],
   "source": []
  },
  {
   "cell_type": "code",
   "execution_count": 7,
   "id": "83c40753-4322-4a2b-b0e6-bebb1c8c4a8c",
   "metadata": {},
   "outputs": [
    {
     "name": "stderr",
     "output_type": "stream",
     "text": [
      "/var/folders/26/5b37wfvn5p3c2jwdpnt8g_280000gn/T/ipykernel_45082/1764437846.py:2: LangChainDeprecationWarning: The class `Ollama` was deprecated in LangChain 0.3.1 and will be removed in 1.0.0. An updated version of the class exists in the :class:`~langchain-ollama package and should be used instead. To use it run `pip install -U :class:`~langchain-ollama` and import as `from :class:`~langchain_ollama import OllamaLLM``.\n",
      "  llm=Ollama(model=\"llama3.2\"),\n"
     ]
    }
   ],
   "source": [
    "rag_chain = RetrievalQA.from_chain_type(\n",
    "    llm=Ollama(model=\"llama3.2\"),\n",
    "    retriever=retriever,\n",
    "    return_source_documents=True\n",
    ")"
   ]
  },
  {
   "cell_type": "code",
   "execution_count": 8,
   "id": "5b41c470-660b-4f04-9f83-413187cb884d",
   "metadata": {},
   "outputs": [],
   "source": [
    "rag_tool = Tool(\n",
    "    name=\"HRPolicyQA\",\n",
    "    func=rag_chain.run,\n",
    "    description=\"Useful for answering questions about company HR policies and leave rules.\"\n",
    ")"
   ]
  },
  {
   "cell_type": "code",
   "execution_count": 9,
   "id": "7a139b8f-0ec9-4ac1-8910-de9fdd046eee",
   "metadata": {},
   "outputs": [
    {
     "name": "stderr",
     "output_type": "stream",
     "text": [
      "/var/folders/26/5b37wfvn5p3c2jwdpnt8g_280000gn/T/ipykernel_45082/3572685311.py:3: LangChainDeprecationWarning: LangChain agents will continue to be supported, but it is recommended for new use cases to be built with LangGraph. LangGraph offers a more flexible and full-featured framework for building agents, including support for tool-calling, persistence of state, and human-in-the-loop workflows. For details, refer to the `LangGraph documentation <https://langchain-ai.github.io/langgraph/>`_ as well as guides for `Migrating from AgentExecutor <https://python.langchain.com/docs/how_to/migrate_agent/>`_ and LangGraph's `Pre-built ReAct agent <https://langchain-ai.github.io/langgraph/how-tos/create-react-agent/>`_.\n",
      "  agent = initialize_agent(\n"
     ]
    }
   ],
   "source": [
    "llm = Ollama(model=\"llama3.2\")\n",
    "\n",
    "agent = initialize_agent(\n",
    "    tools=[rag_tool],\n",
    "    llm=llm,\n",
    "    agent=AgentType.ZERO_SHOT_REACT_DESCRIPTION,\n",
    "    verbose=True\n",
    ")"
   ]
  },
  {
   "cell_type": "code",
   "execution_count": null,
   "id": "92c49bd0-f3da-4551-9495-200feaf17a70",
   "metadata": {},
   "outputs": [
    {
     "name": "stdin",
     "output_type": "stream",
     "text": [
      "\n",
      "Ask me anything about HR Policy (or type 'exit'):  How many sick leave?\n"
     ]
    },
    {
     "name": "stdout",
     "output_type": "stream",
     "text": [
      "\n",
      "\n",
      "\u001b[1m> Entering new AgentExecutor chain...\u001b[0m\n",
      "\u001b[32;1m\u001b[1;3mAction: HRPolicyQA\n",
      "Action Input: How many sick leave?\u001b[0m\n",
      "⚠️ Error: `run` not supported when there is not exactly one output key. Got ['result', 'source_documents'].\n"
     ]
    }
   ],
   "source": [
    "while True:\n",
    "    query = input(\"\\nAsk me anything about HR Policy (or type 'exit'): \")\n",
    "    if query.lower() in ['exit', 'quit']:\n",
    "        print(\"👋 Exiting HR Policy Assistant. Have a great day!\")\n",
    "        break\n",
    "\n",
    "    try:\n",
    "        response = agent.invoke(query)\n",
    "        print(\"\\n🧠 Answer:\\n\" + response)\n",
    "    except Exception as e:\n",
    "        print(f\"\\n⚠️ Error: {str(e)}\")"
   ]
  },
  {
   "cell_type": "code",
   "execution_count": null,
   "id": "9d58d2ae-3ad9-40d1-b848-7c5f0b5c7612",
   "metadata": {},
   "outputs": [],
   "source": []
  }
 ],
 "metadata": {
  "kernelspec": {
   "display_name": "Python 3 (ipykernel)",
   "language": "python",
   "name": "python3"
  },
  "language_info": {
   "codemirror_mode": {
    "name": "ipython",
    "version": 3
   },
   "file_extension": ".py",
   "mimetype": "text/x-python",
   "name": "python",
   "nbconvert_exporter": "python",
   "pygments_lexer": "ipython3",
   "version": "3.12.6"
  }
 },
 "nbformat": 4,
 "nbformat_minor": 5
}
